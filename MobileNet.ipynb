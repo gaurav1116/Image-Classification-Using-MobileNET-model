{
  "cells": [
    {
      "cell_type": "code",
      "execution_count": 31,
      "metadata": {
        "id": "8XE8BOz_CgIH"
      },
      "outputs": [],
      "source": [
        "import os\n",
        "import pandas as pd\n",
        "import numpy as np\n",
        "from sklearn.model_selection import train_test_split\n",
        "from sklearn.preprocessing import LabelEncoder\n",
        "from sklearn.utils import shuffle\n",
        "import matplotlib.pyplot as plt\n",
        "from tensorflow.keras.applications.mobilenet import preprocess_input"
      ]
    },
    {
      "cell_type": "code",
      "execution_count": 32,
      "metadata": {
        "id": "xHXGmD89CgIK"
      },
      "outputs": [],
      "source": [
        "Train_data = \"C:/Users/gaura/Music/Ashwini Mam Project/pythonfiles/MobileNet/data/\"\n",
        "Test_data = 'C:/Users/gaura/Music/Ashwini Mam Project/pythonfiles/MobileNet/test/'\n",
        "\n",
        "train_data_df = pd.DataFrame(columns=['Image_path','Label'])\n",
        "test_data_df = pd.DataFrame(columns=['Image_path'])"
      ]
    },
    {
      "cell_type": "code",
      "execution_count": 33,
      "metadata": {
        "id": "j_ayTGUTCgIL"
      },
      "outputs": [],
      "source": [
        "def load_dataframe(DF,path):\n",
        "    labels_files = os.listdir(path)\n",
        "    image_paths = []\n",
        "    labels = []\n",
        "    for file in labels_files:\n",
        "        path_file = path + file +'\\\\'\n",
        "        list_files = os.listdir(path_file)\n",
        "        for image_path in list_files:\n",
        "            image_paths.append(path_file + image_path)\n",
        "            labels.append(file)\n",
        "    DF['Image_path'] = image_paths\n",
        "    DF['Label'] = labels\n",
        "    return(DF)"
      ]
    },
    {
      "cell_type": "code",
      "execution_count": 34,
      "metadata": {
        "id": "KyF5ZeCwCgIM"
      },
      "outputs": [],
      "source": [
        "train_data_df = load_dataframe(train_data_df,Train_data)\n",
        "test_data_df = load_dataframe(test_data_df,Test_data)\n",
        "\n",
        "train_data_df = shuffle(train_data_df)\n",
        "test_data_df = shuffle(test_data_df)\n",
        "\n",
        "encoder = LabelEncoder()\n",
        "train_data_df['Label'] = encoder.fit_transform(train_data_df['Label'])\n",
        "test_data_df['Label'] = encoder.fit_transform(test_data_df['Label'])"
      ]
    },
    {
      "cell_type": "code",
      "execution_count": 35,
      "metadata": {
        "id": "cR_FSvJECgIN",
        "outputId": "a09b00da-e8fd-40d1-98bb-21abfa957531"
      },
      "outputs": [
        {
          "data": {
            "image/png": "[encoded data removed]",
            "text/plain": [
              "<Figure size 432x288 with 1 Axes>"
            ]
          },
          "metadata": {
            "needs_background": "light"
          },
          "output_type": "display_data"
        },
        {
          "data": {
            "text/plain": [
              "(224, 224, 3)"
            ]
          },
          "execution_count": 35,
          "metadata": {},
          "output_type": "execute_result"
        }
      ],
      "source": [
        "import cv2\n",
        "def load_image(path):\n",
        "    img = cv2.imread(path,1)\n",
        "    # OpenCV loads images with color channels\n",
        "    # in BGR order. So we need to reverse them\n",
        "    img = cv2.resize(img,(224,224))\n",
        "    return img\n",
        "\n",
        "img = load_image(train_data_df['Image_path'][0])\n",
        "fig,ax = plt.subplots(1)\n",
        "ax.imshow(img)\n",
        "plt.show()\n",
        "img.shape"
      ]
    },
    {
      "cell_type": "code",
      "execution_count": 36,
      "metadata": {
        "id": "qMmbir23CgIO"
      },
      "outputs": [],
      "source": [
        "x_train = []\n",
        "for image_path in train_data_df['Image_path'] :\n",
        "    img = load_image(image_path)\n",
        "    img = preprocess_input(np.array(img, dtype=np.float32))\n",
        "    x_train.append(img)\n",
        "x_train = np.array(x_train)"
      ]
    },
    {
      "cell_type": "code",
      "execution_count": 37,
      "metadata": {
        "id": "I2oXgtPfCgIP"
      },
      "outputs": [],
      "source": [
        "x_test = []\n",
        "for image_path in test_data_df['Image_path'] :\n",
        "    img = load_image(image_path)\n",
        "    img = preprocess_input(np.array(img, dtype=np.float32))\n",
        "    x_test.append(img)\n",
        "x_test = np.array(x_test)"
      ]
    },
    {
      "cell_type": "code",
      "execution_count": 38,
      "metadata": {
        "id": "uLXwbPkSCgIQ"
      },
      "outputs": [],
      "source": [
        "y_train = train_data_df['Label'].to_list()\n",
        "y_test = test_data_df['Label'].to_list()"
      ]
    },
    {
      "cell_type": "code",
      "execution_count": 39,
      "metadata": {
        "id": "DCoN4PlCCgIR"
      },
      "outputs": [],
      "source": [
        "from tensorflow.keras.utils import to_categorical\n",
        "\n",
        "y_train = to_categorical(y_train,num_classes=3)\n",
        "y_train = y_train.reshape(y_train.shape[0],1,1,y_train.shape[1])\n",
        "y_test = to_categorical(y_test,num_classes=3)\n",
        "y_test = y_test.reshape(y_test.shape[0],1,1,y_test.shape[1])"
      ]
    },
    {
      "cell_type": "code",
      "execution_count": 40,
      "metadata": {
        "id": "5fNqSYHeCgIS"
      },
      "outputs": [],
      "source": [
        "from tensorflow.keras.applications.mobilenet import MobileNet \n",
        "from tensorflow.keras.layers import Reshape, UpSampling2D, Concatenate, Conv2D,Conv2DTranspose,Dropout,Dense,MaxPool2D\n",
        "from tensorflow.keras.models import Model\n",
        "\n",
        "def create_model(trainable=True):\n",
        "    model = MobileNet(input_shape=(224, 224, 3), include_top=False, weights=\"imagenet\")\n",
        "\n",
        "    for layer in model.layers:\n",
        "        layer.trainable = trainable    \n",
        "\n",
        "    x =  model.output\n",
        "    x = Conv2D(512, kernel_size=3,padding ='same',activation=\"relu\")(x)\n",
        "    x = MaxPool2D()(x)\n",
        "    x = Conv2D(256, kernel_size=3,padding ='same',activation=\"relu\")(x)\n",
        "    x = MaxPool2D()(x)\n",
        "    x = Dense(512,activation = 'relu')(x)\n",
        "    x = Dense(3,activation = 'softmax')(x)\n",
        "    return(Model(inputs = model.input,outputs = x))"
      ]
    },
    {
      "cell_type": "code",
      "execution_count": 41,
      "metadata": {
        "id": "T1QCtiX-CgIT",
        "outputId": "47e9f5f5-49b9-49b3-b76f-a0e3cd304c5d"
      },
      "outputs": [],
      "source": [
        "model = create_model(False)\n",
        "import tensorflow\n",
        "Optimizer = tensorflow.keras.optimizers.Adam(learning_rate = 1e-6,beta_1 = 0.9,decay = 1e-5)\n",
        "\n",
        "model.compile(optimizer= Optimizer,loss= 'categorical_crossentropy',metrics= 'accuracy')"
      ]
    },
    {
      "cell_type": "code",
      "execution_count": 42,
      "metadata": {
        "id": "HUF7GQmPCgIU"
      },
      "outputs": [],
      "source": [
        "# EarlyStopping = tensorflow.keras.callbacks.EarlyStopping(monitor='val_loss',patience=2,min_delta = 0.01)\n",
        "# # Model Checkpoint\n",
        "# ModelCheckpoint = tensorflow.keras.callbacks.ModelCheckpoint(\"pneu_2-{val_loss:.3f}.h5\",monitor='val_loss',save_best_only= True,save_weights_only=True)"
      ]
    },
    {
      "cell_type": "code",
      "execution_count": 43,
      "metadata": {
        "id": "iM7rhvtHCgIU",
        "outputId": "0c6fecf5-a88c-41d1-aa95-7edef930e2e8"
      },
      "outputs": [
        {
          "name": "stdout",
          "output_type": "stream",
          "text": [
            "Epoch 1/10\n",
            "2093/2093 [==============================] - 148s 70ms/step - loss: 0.7122 - accuracy: 0.7205 - val_loss: 0.4206 - val_accuracy: 0.9524\n",
            "Epoch 2/10\n",
            "2093/2093 [==============================] - 268s 128ms/step - loss: 0.3765 - accuracy: 0.9145 - val_loss: 0.2565 - val_accuracy: 0.9524\n",
            "Epoch 3/10\n",
            "2093/2093 [==============================] - 288s 137ms/step - loss: 0.2370 - accuracy: 0.9484 - val_loss: 0.1805 - val_accuracy: 1.0000\n",
            "Epoch 4/10\n",
            "2093/2093 [==============================] - 282s 135ms/step - loss: 0.1568 - accuracy: 0.9747 - val_loss: 0.1350 - val_accuracy: 1.0000\n",
            "Epoch 5/10\n",
            "2093/2093 [==============================] - 262s 125ms/step - loss: 0.1103 - accuracy: 0.9828 - val_loss: 0.1124 - val_accuracy: 1.0000\n",
            "Epoch 6/10\n",
            "2093/2093 [==============================] - 261s 125ms/step - loss: 0.0786 - accuracy: 0.9866 - val_loss: 0.0927 - val_accuracy: 1.0000\n",
            "Epoch 7/10\n",
            "2093/2093 [==============================] - 269s 128ms/step - loss: 0.0586 - accuracy: 0.9909 - val_loss: 0.0792 - val_accuracy: 1.0000\n",
            "Epoch 8/10\n",
            "2093/2093 [==============================] - 272s 130ms/step - loss: 0.0469 - accuracy: 0.9919 - val_loss: 0.0830 - val_accuracy: 1.0000\n",
            "Epoch 9/10\n",
            "2093/2093 [==============================] - 276s 132ms/step - loss: 0.0378 - accuracy: 0.9928 - val_loss: 0.1036 - val_accuracy: 0.9048\n",
            "Epoch 10/10\n",
            "2093/2093 [==============================] - 286s 137ms/step - loss: 0.0320 - accuracy: 0.9962 - val_loss: 0.1029 - val_accuracy: 0.9048\n"
          ]
        }
      ],
      "source": [
        "# model_history = model.fit(x_train,y_train,epochs = 2,batch_size = 1,validation_data = (x_test,y_test),callbacks=[ModelCheckpoint,EarlyStopping])\n",
        "model_history = model.fit(x_train,y_train, validation_data = (x_test,y_test),epochs=10,batch_size = 1)"
      ]
    },
    {
      "cell_type": "code",
      "execution_count": 44,
      "metadata": {
        "id": "20y6Ff0BCgIU"
      },
      "outputs": [
        {
          "data": {
            "image/png": "[encoded data removed]",
            "text/plain": [
              "<Figure size 432x288 with 1 Axes>"
            ]
          },
          "metadata": {
            "needs_background": "light"
          },
          "output_type": "display_data"
        },
        {
          "data": {
            "image/png": "[encoded data removed]",
            "text/plain": [
              "<Figure size 432x288 with 1 Axes>"
            ]
          },
          "metadata": {
            "needs_background": "light"
          },
          "output_type": "display_data"
        }
      ],
      "source": [
        "def plotModelAccuracy(history, modelname):\n",
        "    plt.plot(history.history['accuracy'])\n",
        "    plt.plot(history.history['val_accuracy'])\n",
        "\n",
        "    plt.title(modelname+' model accuracy')\n",
        "    plt.ylabel('accuracy')\n",
        "    plt.xlabel('epoch')\n",
        "    plt.legend(['train','test'], loc='upper left')\n",
        "    plt.show()\n",
        "\n",
        "    plt.plot(history.history['loss'])\n",
        "    plt.plot(history.history['val_loss'])\n",
        "\n",
        "    plt.title(modelname+' model loss')\n",
        "    plt.ylabel('loss')\n",
        "    plt.xlabel('epoch')\n",
        "    plt.legend(['train','test'], loc='upper left')\n",
        "    plt.show()\n",
        "\n",
        "plotModelAccuracy(model_history, 'Mobile_Net')"
      ]
    },
    {
      "cell_type": "code",
      "execution_count": 45,
      "metadata": {
        "id": "RRFb5YqdCgIY"
      },
      "outputs": [],
      "source": [
        "# import tensorflow as tf\n",
        "# import pandas as pd\n",
        "# import numpy as np\n",
        "# from sklearn.model_selection import train_test_split\n",
        "# from sklearn.preprocessing import LabelEncoder\n",
        "# from sklearn.utils import shuffle\n",
        "# import cv2\n",
        "# import matplotlib.pyplot as plt\n",
        "# from tensorflow.keras.applications.mobilenet import preprocess_input\n",
        "# from myhdl import *\n",
        "\n",
        "# def predict(image):\n",
        "#     _model = create_model(True)\n",
        "#     _model.load_weights('pneu_2-0.628.h5')\n",
        "#     image = cv2.resize(image, (224,224))\n",
        "#     pred = _model.predict(np.array(image).reshape(1,224,224,3))\n",
        "#     lab = encoder.classes_[np.argmax(pred)]\n",
        "#     return(lab)\n",
        "\n",
        "# image = cv2.imread('D:\\\\Omkar Project\\\\chest_xray\\\\train\\\\normal\\\\IM-0191-0001.jpeg', 1)\n",
        "# predict(image)\n",
        "\n",
        "# converter = tf.lite.TFLiteConverter.from_keras_model(_model) # path to the SavedModel directory\n",
        "# converter.optimizations = [tf.lite.Optimize.OPTIMIZE_FOR_SIZE]\n",
        "# tflite_model = converter.convert()\n",
        "# with open('mobnet_model1.tflite', 'wb') as f:\n",
        "#     f.write(tflite_model)"
      ]
    }
  ],
  "metadata": {
    "colab": {
      "name": "Pneumonia Detection.ipynb",
      "provenance": []
    },
    "kernelspec": {
      "display_name": "Python 3",
      "language": "python",
      "name": "python3"
    },
    "language_info": {
      "codemirror_mode": {
        "name": "ipython",
        "version": 3
      },
      "file_extension": ".py",
      "mimetype": "text/x-python",
      "name": "python",
      "nbconvert_exporter": "python",
      "pygments_lexer": "ipython3",
      "version": "3.9.7"
    }
  },
  "nbformat": 4,
  "nbformat_minor": 0
}
